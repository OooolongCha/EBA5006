{
  "nbformat": 4,
  "nbformat_minor": 0,
  "metadata": {
    "colab": {
      "name": "VM_User_based_Item_based_CF_RCS.ipynb",
      "provenance": []
    },
    "kernelspec": {
      "name": "python3",
      "display_name": "Python 3"
    },
    "language_info": {
      "name": "python"
    }
  },
  "cells": [
    {
      "cell_type": "markdown",
      "metadata": {
        "id": "QHrdq9958zSo"
      },
      "source": [
        "Install and import necessary packages and functions to load data from GCP and build neighbor-based collaborative filtering recommender systems"
      ]
    },
    {
      "cell_type": "code",
      "metadata": {
        "id": "Emd3AetHu3-z",
        "colab": {
          "base_uri": "https://localhost:8080/"
        },
        "outputId": "4b3c6261-8efe-45ba-c857-9044ac20a402"
      },
      "source": [
        "pip install --upgrade google-cloud-storage #install necessary packages to load data from GCP"
      ],
      "execution_count": 26,
      "outputs": [
        {
          "output_type": "stream",
          "name": "stdout",
          "text": [
            "Requirement already satisfied: google-cloud-storage in /usr/local/lib/python3.7/dist-packages (1.43.0)\n",
            "Requirement already satisfied: google-api-core<3.0dev,>=1.29.0 in /usr/local/lib/python3.7/dist-packages (from google-cloud-storage) (2.2.2)\n",
            "Requirement already satisfied: requests<3.0.0dev,>=2.18.0 in /usr/local/lib/python3.7/dist-packages (from google-cloud-storage) (2.23.0)\n",
            "Requirement already satisfied: google-auth<3.0dev,>=1.25.0 in /usr/local/lib/python3.7/dist-packages (from google-cloud-storage) (1.35.0)\n",
            "Requirement already satisfied: google-cloud-core<3.0dev,>=1.6.0 in /usr/local/lib/python3.7/dist-packages (from google-cloud-storage) (2.2.1)\n",
            "Requirement already satisfied: google-resumable-media<3.0dev,>=1.3.0 in /usr/local/lib/python3.7/dist-packages (from google-cloud-storage) (2.1.0)\n",
            "Requirement already satisfied: protobuf in /usr/local/lib/python3.7/dist-packages (from google-cloud-storage) (3.17.3)\n",
            "Requirement already satisfied: six in /usr/local/lib/python3.7/dist-packages (from google-cloud-storage) (1.15.0)\n",
            "Requirement already satisfied: setuptools>=40.3.0 in /usr/local/lib/python3.7/dist-packages (from google-api-core<3.0dev,>=1.29.0->google-cloud-storage) (57.4.0)\n",
            "Requirement already satisfied: googleapis-common-protos<2.0dev,>=1.52.0 in /usr/local/lib/python3.7/dist-packages (from google-api-core<3.0dev,>=1.29.0->google-cloud-storage) (1.53.0)\n",
            "Requirement already satisfied: pyasn1-modules>=0.2.1 in /usr/local/lib/python3.7/dist-packages (from google-auth<3.0dev,>=1.25.0->google-cloud-storage) (0.2.8)\n",
            "Requirement already satisfied: cachetools<5.0,>=2.0.0 in /usr/local/lib/python3.7/dist-packages (from google-auth<3.0dev,>=1.25.0->google-cloud-storage) (4.2.2)\n",
            "Requirement already satisfied: rsa<5,>=3.1.4 in /usr/local/lib/python3.7/dist-packages (from google-auth<3.0dev,>=1.25.0->google-cloud-storage) (4.7.2)\n",
            "Requirement already satisfied: google-crc32c<2.0dev,>=1.0 in /usr/local/lib/python3.7/dist-packages (from google-resumable-media<3.0dev,>=1.3.0->google-cloud-storage) (1.3.0)\n",
            "Requirement already satisfied: pyasn1<0.5.0,>=0.4.6 in /usr/local/lib/python3.7/dist-packages (from pyasn1-modules>=0.2.1->google-auth<3.0dev,>=1.25.0->google-cloud-storage) (0.4.8)\n",
            "Requirement already satisfied: chardet<4,>=3.0.2 in /usr/local/lib/python3.7/dist-packages (from requests<3.0.0dev,>=2.18.0->google-cloud-storage) (3.0.4)\n",
            "Requirement already satisfied: idna<3,>=2.5 in /usr/local/lib/python3.7/dist-packages (from requests<3.0.0dev,>=2.18.0->google-cloud-storage) (2.10)\n",
            "Requirement already satisfied: urllib3!=1.25.0,!=1.25.1,<1.26,>=1.21.1 in /usr/local/lib/python3.7/dist-packages (from requests<3.0.0dev,>=2.18.0->google-cloud-storage) (1.24.3)\n",
            "Requirement already satisfied: certifi>=2017.4.17 in /usr/local/lib/python3.7/dist-packages (from requests<3.0.0dev,>=2.18.0->google-cloud-storage) (2021.5.30)\n"
          ]
        }
      ]
    },
    {
      "cell_type": "code",
      "metadata": {
        "colab": {
          "base_uri": "https://localhost:8080/"
        },
        "id": "B418wkWPwJp7",
        "outputId": "1120baec-b8e1-4000-9150-9e373ad32523"
      },
      "source": [
        "pip install fsspec #install necessary packages to load data from GCP"
      ],
      "execution_count": 27,
      "outputs": [
        {
          "output_type": "stream",
          "name": "stdout",
          "text": [
            "Requirement already satisfied: fsspec in /usr/local/lib/python3.7/dist-packages (2021.11.0)\n"
          ]
        }
      ]
    },
    {
      "cell_type": "code",
      "metadata": {
        "colab": {
          "base_uri": "https://localhost:8080/"
        },
        "id": "M4xtXnv-wTqf",
        "outputId": "34e3b383-f045-4d63-b458-90ee75e1b4e9"
      },
      "source": [
        "pip install gcsfs #install necessary packages to load data from GCP"
      ],
      "execution_count": 28,
      "outputs": [
        {
          "output_type": "stream",
          "name": "stdout",
          "text": [
            "Requirement already satisfied: gcsfs in /usr/local/lib/python3.7/dist-packages (2021.11.0)\n",
            "Requirement already satisfied: fsspec==2021.11.0 in /usr/local/lib/python3.7/dist-packages (from gcsfs) (2021.11.0)\n",
            "Requirement already satisfied: requests in /usr/local/lib/python3.7/dist-packages (from gcsfs) (2.23.0)\n",
            "Requirement already satisfied: google-auth>=1.2 in /usr/local/lib/python3.7/dist-packages (from gcsfs) (1.35.0)\n",
            "Requirement already satisfied: google-cloud-storage in /usr/local/lib/python3.7/dist-packages (from gcsfs) (1.43.0)\n",
            "Requirement already satisfied: decorator>4.1.2 in /usr/local/lib/python3.7/dist-packages (from gcsfs) (4.4.2)\n",
            "Requirement already satisfied: google-auth-oauthlib in /usr/local/lib/python3.7/dist-packages (from gcsfs) (0.4.6)\n",
            "Requirement already satisfied: aiohttp in /usr/local/lib/python3.7/dist-packages (from gcsfs) (3.8.1)\n",
            "Requirement already satisfied: cachetools<5.0,>=2.0.0 in /usr/local/lib/python3.7/dist-packages (from google-auth>=1.2->gcsfs) (4.2.2)\n",
            "Requirement already satisfied: six>=1.9.0 in /usr/local/lib/python3.7/dist-packages (from google-auth>=1.2->gcsfs) (1.15.0)\n",
            "Requirement already satisfied: pyasn1-modules>=0.2.1 in /usr/local/lib/python3.7/dist-packages (from google-auth>=1.2->gcsfs) (0.2.8)\n",
            "Requirement already satisfied: rsa<5,>=3.1.4 in /usr/local/lib/python3.7/dist-packages (from google-auth>=1.2->gcsfs) (4.7.2)\n",
            "Requirement already satisfied: setuptools>=40.3.0 in /usr/local/lib/python3.7/dist-packages (from google-auth>=1.2->gcsfs) (57.4.0)\n",
            "Requirement already satisfied: pyasn1<0.5.0,>=0.4.6 in /usr/local/lib/python3.7/dist-packages (from pyasn1-modules>=0.2.1->google-auth>=1.2->gcsfs) (0.4.8)\n",
            "Requirement already satisfied: multidict<7.0,>=4.5 in /usr/local/lib/python3.7/dist-packages (from aiohttp->gcsfs) (5.2.0)\n",
            "Requirement already satisfied: typing-extensions>=3.7.4 in /usr/local/lib/python3.7/dist-packages (from aiohttp->gcsfs) (3.7.4.3)\n",
            "Requirement already satisfied: charset-normalizer<3.0,>=2.0 in /usr/local/lib/python3.7/dist-packages (from aiohttp->gcsfs) (2.0.6)\n",
            "Requirement already satisfied: asynctest==0.13.0 in /usr/local/lib/python3.7/dist-packages (from aiohttp->gcsfs) (0.13.0)\n",
            "Requirement already satisfied: async-timeout<5.0,>=4.0.0a3 in /usr/local/lib/python3.7/dist-packages (from aiohttp->gcsfs) (4.0.1)\n",
            "Requirement already satisfied: attrs>=17.3.0 in /usr/local/lib/python3.7/dist-packages (from aiohttp->gcsfs) (21.2.0)\n",
            "Requirement already satisfied: frozenlist>=1.1.1 in /usr/local/lib/python3.7/dist-packages (from aiohttp->gcsfs) (1.2.0)\n",
            "Requirement already satisfied: yarl<2.0,>=1.0 in /usr/local/lib/python3.7/dist-packages (from aiohttp->gcsfs) (1.7.2)\n",
            "Requirement already satisfied: aiosignal>=1.1.2 in /usr/local/lib/python3.7/dist-packages (from aiohttp->gcsfs) (1.2.0)\n",
            "Requirement already satisfied: idna>=2.0 in /usr/local/lib/python3.7/dist-packages (from yarl<2.0,>=1.0->aiohttp->gcsfs) (2.10)\n",
            "Requirement already satisfied: requests-oauthlib>=0.7.0 in /usr/local/lib/python3.7/dist-packages (from google-auth-oauthlib->gcsfs) (1.3.0)\n",
            "Requirement already satisfied: oauthlib>=3.0.0 in /usr/local/lib/python3.7/dist-packages (from requests-oauthlib>=0.7.0->google-auth-oauthlib->gcsfs) (3.1.1)\n",
            "Requirement already satisfied: urllib3!=1.25.0,!=1.25.1,<1.26,>=1.21.1 in /usr/local/lib/python3.7/dist-packages (from requests->gcsfs) (1.24.3)\n",
            "Requirement already satisfied: certifi>=2017.4.17 in /usr/local/lib/python3.7/dist-packages (from requests->gcsfs) (2021.5.30)\n",
            "Requirement already satisfied: chardet<4,>=3.0.2 in /usr/local/lib/python3.7/dist-packages (from requests->gcsfs) (3.0.4)\n",
            "Requirement already satisfied: google-api-core<3.0dev,>=1.29.0 in /usr/local/lib/python3.7/dist-packages (from google-cloud-storage->gcsfs) (2.2.2)\n",
            "Requirement already satisfied: google-cloud-core<3.0dev,>=1.6.0 in /usr/local/lib/python3.7/dist-packages (from google-cloud-storage->gcsfs) (2.2.1)\n",
            "Requirement already satisfied: google-resumable-media<3.0dev,>=1.3.0 in /usr/local/lib/python3.7/dist-packages (from google-cloud-storage->gcsfs) (2.1.0)\n",
            "Requirement already satisfied: protobuf in /usr/local/lib/python3.7/dist-packages (from google-cloud-storage->gcsfs) (3.17.3)\n",
            "Requirement already satisfied: googleapis-common-protos<2.0dev,>=1.52.0 in /usr/local/lib/python3.7/dist-packages (from google-api-core<3.0dev,>=1.29.0->google-cloud-storage->gcsfs) (1.53.0)\n",
            "Requirement already satisfied: google-crc32c<2.0dev,>=1.0 in /usr/local/lib/python3.7/dist-packages (from google-resumable-media<3.0dev,>=1.3.0->google-cloud-storage->gcsfs) (1.3.0)\n"
          ]
        }
      ]
    },
    {
      "cell_type": "code",
      "metadata": {
        "id": "rHZgTE7VwVPn"
      },
      "source": [
        "import os\n",
        "from google.cloud import storage\n",
        "import pandas as pd\n",
        "import pandas as pd\n",
        "import numpy as np\n",
        "import random"
      ],
      "execution_count": 29,
      "outputs": []
    },
    {
      "cell_type": "code",
      "metadata": {
        "colab": {
          "base_uri": "https://localhost:8080/"
        },
        "id": "_aTbuj3k5yE0",
        "outputId": "d1938624-2b85-4e6f-b795-301b13f14887"
      },
      "source": [
        "# import necessary functions\n",
        "%cd '/content/'\n",
        "from demolib import mapdata\n",
        "from demolib import getRecommendations_UU\n",
        "from demolib import getRecommendations_II\n",
        "from demolib import predictRatings\n",
        "from demolib import getitemsimsmatrix\n",
        "from demolib import pearsonsim\n",
        "from demolib import wtavg\n",
        "from demolib import makeRatingsMatrix"
      ],
      "execution_count": 30,
      "outputs": [
        {
          "output_type": "stream",
          "name": "stdout",
          "text": [
            "/content\n"
          ]
        }
      ]
    },
    {
      "cell_type": "markdown",
      "metadata": {
        "id": "eL-pBUZK9k0r"
      },
      "source": [
        "Load data from Google Cloud Storage"
      ]
    },
    {
      "cell_type": "code",
      "metadata": {
        "colab": {
          "base_uri": "https://localhost:8080/"
        },
        "id": "FBEgENvYw4jQ",
        "outputId": "9a1b1415-92d2-4566-9f55-3b2955c9e0f6"
      },
      "source": [
        "os.environ['GOOGLE_APPLICATION_CREDENTIALS'] = '/content/eloquent-life-328614-f56ab675c052.json'\n",
        "storage_client = storage.Client()\n",
        "bucket = storage_client.get_bucket('data5006_batch')\n",
        "ratings_df = pd.read_csv('gs://data5006_batch/Google_Game_Ratings.csv')\n",
        "game_info = pd.read_csv('gs://data5006_batch/GameInfo.csv')\n",
        "print(ratings_df)\n",
        "print(game_info)"
      ],
      "execution_count": 31,
      "outputs": [
        {
          "output_type": "stream",
          "name": "stdout",
          "text": [
            "            user_id  item_id  rating\n",
            "0                -9  Game133       3\n",
            "1                 0    Game9       2\n",
            "2                 0   Game14       4\n",
            "3                 0  Game129       4\n",
            "4                 0  Game152       5\n",
            "...             ...      ...     ...\n",
            "289582      zzz zzz    Game2       2\n",
            "289583  Zzzdreaminq   Game78       5\n",
            "289584      zzzlepy   Game37       5\n",
            "289585    Zzzz Zzzz  Game138       5\n",
            "289586         TRUE   Game15       3\n",
            "\n",
            "[289587 rows x 3 columns]\n",
            "      GameID  ...                                                url\n",
            "0      Game1  ...  https://play.google.com/store/apps/details?id=...\n",
            "1      Game2  ...  https://play.google.com/store/apps/details?id=...\n",
            "2      Game3  ...  https://play.google.com/store/apps/details?id=...\n",
            "3      Game4  ...  https://play.google.com/store/apps/details?id=...\n",
            "4      Game5  ...  https://play.google.com/store/apps/details?id=...\n",
            "..       ...  ...                                                ...\n",
            "165  Game166  ...  https://play.google.com/store/apps/details?id=...\n",
            "166  Game167  ...  https://play.google.com/store/apps/details?id=...\n",
            "167  Game168  ...  https://play.google.com/store/apps/details?id=...\n",
            "168  Game169  ...  https://play.google.com/store/apps/details?id=...\n",
            "169  Game170  ...  https://play.google.com/store/apps/details?id=...\n",
            "\n",
            "[170 rows x 48 columns]\n"
          ]
        }
      ]
    },
    {
      "cell_type": "code",
      "metadata": {
        "id": "Q3bd_tpK-sCw",
        "colab": {
          "base_uri": "https://localhost:8080/"
        },
        "outputId": "348dd7c9-5281-4609-de0f-ee26f7f24758"
      },
      "source": [
        "titlelookup = dict(zip(game_info[\"GameID\"],game_info[\"title\"]))\n",
        "titlelookup"
      ],
      "execution_count": 32,
      "outputs": [
        {
          "output_type": "execute_result",
          "data": {
            "text/plain": [
              "{'Game1': 'Grand Theft Auto: San Andreas',\n",
              " 'Game10': 'Hitman Sniper',\n",
              " 'Game100': 'The Room',\n",
              " 'Game101': 'Bridge Constructor Portal',\n",
              " 'Game102': 'Motorsport Manager Mobile 2',\n",
              " 'Game103': 'Riptide GP2',\n",
              " 'Game104': 'Real Drift Car Racing',\n",
              " 'Game105': 'F1 2016',\n",
              " 'Game106': 'Illegal Race Tuning - Real car racing multiplayer',\n",
              " 'Game107': 'Need for Speed Most Wanted',\n",
              " 'Game108': 'Bike Race Pro by T. F. Games',\n",
              " 'Game109': 'GRID™ Autosport',\n",
              " 'Game11': 'Zombie Age 3 Premium: Rules of Survival',\n",
              " 'Game110': 'Draw Rider Plus',\n",
              " 'Game111': 'Motorsport Manager Mobile 3',\n",
              " 'Game112': 'Earn to Die',\n",
              " 'Game113': 'Reckless Racing 3',\n",
              " 'Game114': 'Dungeon Corporation P : (An auto-farming RPG game)',\n",
              " 'Game115': 'Stardew Valley',\n",
              " 'Game116': 'Star Wars™: KOTOR',\n",
              " 'Game117': 'Mystery of Fortune 2',\n",
              " 'Game118': 'Devil Twins: VIP',\n",
              " 'Game119': 'Dungeon Corporation VIP: An auto-farming RPG game!',\n",
              " 'Game12': 'Dungeon Shooter : The Forgotten Temple',\n",
              " 'Game120': '[VIP] +9 God Blessing Knight - Cash Knight',\n",
              " 'Game121': 'Ticket to Earth',\n",
              " 'Game122': \"Everybody's RPG\",\n",
              " 'Game123': 'Day R Premium',\n",
              " 'Game124': 'Dungeon Corporation S: An auto-farming RPG game!',\n",
              " 'Game125': 'Mystic Guardian PV: Old School Action RPG',\n",
              " 'Game126': 'Neo Monsters',\n",
              " 'Game127': 'Evertale',\n",
              " 'Game128': 'Romancing SaGa3',\n",
              " 'Game129': '[VIP]Missile Dude RPG: Tap Tap Missile',\n",
              " 'Game13': 'Stickman Ghost: Ninja Warrior Action Offline Game',\n",
              " 'Game130': 'This War of Mine',\n",
              " 'Game131': 'Game Dev Tycoon',\n",
              " 'Game132': 'Townsmen Premium',\n",
              " 'Game133': 'Infinite Flight - Flight Simulator',\n",
              " 'Game134': 'Farming Simulator 18',\n",
              " 'Game135': 'Farming Simulator 20',\n",
              " 'Game136': 'Animal Forest : Fuzzy Seasons (Start Pack Edition)',\n",
              " 'Game137': 'Pocket City',\n",
              " 'Game138': 'Bridge Constructor',\n",
              " 'Game139': 'My Celestial Tree VIP - Unique Beautiful Game',\n",
              " 'Game14': 'Stickman Legends: Shadow War Offline Fighting Game',\n",
              " 'Game140': 'NBA 2K20',\n",
              " 'Game141': 'NBA JAM  by EA SPORTS™',\n",
              " 'Game142': 'OK Golf',\n",
              " 'Game143': 'Football Agent',\n",
              " 'Game144': 'True Skate',\n",
              " 'Game145': 'Ice Rage: Hockey Multiplayer game',\n",
              " 'Game146': 'Football Chairman Pro - Build a Soccer Empire',\n",
              " 'Game147': 'Football Manager 2020 Mobile',\n",
              " 'Game148': 'Eternity Legends Premium',\n",
              " 'Game149': 'Iron Marines: RTS Offline Real Time Strategy Game',\n",
              " 'Game15': 'Shadow Fight 2 Special Edition',\n",
              " 'Game150': 'Heroes Infinity Premium',\n",
              " 'Game151': 'Rusted Warfare - RTS Strategy',\n",
              " 'Game152': \"Five Nights at Freddy's 2\",\n",
              " 'Game153': 'King of Defense Premium: Tower Defense Offline',\n",
              " 'Game154': 'Kingdom Rush Vengeance TD',\n",
              " 'Game155': 'The Escapists 2: Pocket Breakout',\n",
              " 'Game156': 'Kingdom Rush Origins - Tower Defense Game',\n",
              " 'Game157': 'Kingdom Rush Frontiers - Tower Defense Game',\n",
              " 'Game158': 'Teeny Titans - Teen Titans Go!',\n",
              " 'Game159': 'Dungeon Maker',\n",
              " 'Game16': \"Don't Starve: Pocket Edition\",\n",
              " 'Game160': 'Bloons TD 6',\n",
              " 'Game161': 'Empire Warriors Premium: Tower Defense Games',\n",
              " 'Game162': 'Castle Defender Premium: Hero Idle Defense TD',\n",
              " 'Game163': 'Cartoon Craft',\n",
              " 'Game164': 'Bloons TD 5',\n",
              " 'Game165': 'Trivia Crack (No Ads)',\n",
              " 'Game166': 'Sporcle',\n",
              " 'Game167': 'Majotori',\n",
              " 'Game168': 'Endless Quiz Pro',\n",
              " 'Game169': 'Classic Words Plus',\n",
              " 'Game17': 'Live or Die: Zombie Survival Pro',\n",
              " 'Game170': 'Wordfeud',\n",
              " 'Game18': 'Lifeline: Flatline',\n",
              " 'Game19': 'Epic Heroes War: Shadow Lord Stickman - Premium',\n",
              " 'Game2': 'League of Stickman - Best action game(Dreamsky)',\n",
              " 'Game20': 'Alien: Blackout',\n",
              " 'Game21': 'LIMBO',\n",
              " 'Game22': '서울 2033 : 후원자',\n",
              " 'Game23': 'Terraria',\n",
              " 'Game24': '60 Seconds! Atomic Adventure',\n",
              " 'Game25': 'TL Pro',\n",
              " 'Game26': 'Galaxy Shooter : Falcon Squad Premium',\n",
              " 'Game27': 'Geometry Dash',\n",
              " 'Game28': 'Worms 3',\n",
              " 'Game29': 'Vector Full',\n",
              " 'Game3': 'Shadow Knight Arena: Online Fighting Game',\n",
              " 'Game30': 'THE KING OF FIGHTERS-A 2012',\n",
              " 'Game31': 'Fruit Ninja Classic',\n",
              " 'Game32': 'John GBA - GBA emulator',\n",
              " 'Game33': 'Galaxy Warrior: Alien Attack',\n",
              " 'Game34': 'Minecraft',\n",
              " 'Game35': 'Galaxy Attack: Alien Shooter (Premium)',\n",
              " 'Game36': 'Space Shooter: Alien vs Galaxy Attack (Premium)',\n",
              " 'Game37': \"THE KING OF FIGHTERS '98\",\n",
              " 'Game38': 'Grand Theft Auto: Vice City',\n",
              " 'Game39': 'WindWings: Space shooter, Galaxy attack (Premium)',\n",
              " 'Game4': 'Cyber Fighters: League of Cyberpunk Stickman 2077',\n",
              " 'Game40': 'Max Payne Mobile',\n",
              " 'Game41': 'Carcassonne: Official Board Game -Tiles & Tactics',\n",
              " 'Game42': 'Monopoly - Board game classic about real-estate!',\n",
              " 'Game43': 'Catan Classic',\n",
              " 'Game44': 'Chess - Analyze This (Pro)',\n",
              " 'Game45': 'Through the Ages',\n",
              " 'Game46': 'THE GAME OF LIFE 2 - More choices, more freedom!',\n",
              " 'Game47': 'The Game of Life',\n",
              " 'Game48': 'Ticket to Ride',\n",
              " 'Game49': 'Root Board Game',\n",
              " 'Game5': 'Stickman Master: League Of Shadow - Ninja Fight',\n",
              " 'Game50': 'Splendor',\n",
              " 'Game51': 'Clue',\n",
              " 'Game52': 'Talisman',\n",
              " 'Game53': 'Terraforming Mars',\n",
              " 'Game54': 'Reigns: Game of Thrones',\n",
              " 'Game55': 'Reigns',\n",
              " 'Game56': 'Pirates Outlaws',\n",
              " 'Game57': 'Solitaire+',\n",
              " 'Game58': 'Meteorfall: Journeys',\n",
              " 'Game59': 'Cultist Simulator',\n",
              " 'Game6': \"Assassin's Creed Identity\",\n",
              " 'Game60': \"Meteorfall: Krumit's Tale\",\n",
              " 'Game61': 'Theme Solitaire Tripeaks Tri Tower PV',\n",
              " 'Game62': 'Triple Fantasy Premium',\n",
              " 'Game63': 'Exploding Kittens® - Official',\n",
              " 'Game64': 'Reigns: Her Majesty',\n",
              " 'Game65': 'Card Counter',\n",
              " 'Game66': 'Lucky Leprechaun Slots PAID',\n",
              " 'Game67': 'Scratch-a-Lotto Scratch Card Lottery PAID',\n",
              " 'Game68': 'Blackjack & Card Counting Trainer Pro',\n",
              " 'Game69': 'Wild West Faro',\n",
              " 'Game7': 'The Sun Origin: Post-apocalyptic action shooter',\n",
              " 'Game70': 'VIP Slots Club ★ VIP Casino',\n",
              " 'Game71': 'Top Money 💵 Slots (PREMIUM)',\n",
              " 'Game72': 'MEGA Money Slots PAID',\n",
              " 'Game73': 'Cleopatra Keno',\n",
              " 'Game74': 'My PlayHome Stores',\n",
              " 'Game75': 'Hidden Folks',\n",
              " 'Game76': 'My PlayHome School',\n",
              " 'Game77': 'Grow Zombie VIP - Merge Zombies',\n",
              " 'Game78': 'My PlayHome : Play Home Doll House',\n",
              " 'Game79': 'My PlayHome Hospital',\n",
              " 'Game8': 'Shadow of Death: Dark Knight - Stickman Fighting',\n",
              " 'Game80': 'Teach Your Monster to Read: Phonics & Reading Game',\n",
              " 'Game81': 'Dr. Panda School',\n",
              " 'Game82': 'Peppa Pig: Sports Day',\n",
              " 'Game83': 'A Dance of Fire and Ice',\n",
              " 'Game84': 'Incredibox',\n",
              " 'Game85': 'Beat Legend: AVICII',\n",
              " 'Game86': 'Lowriders Comeback 2: Cruising',\n",
              " 'Game87': 'Cytus II',\n",
              " 'Game88': 'Pango Musical March',\n",
              " 'Game89': 'Muse Dash',\n",
              " 'Game9': \"Five Nights at Freddy's\",\n",
              " 'Game90': 'O2Jam - Music & Game',\n",
              " 'Game91': 'My Singing Monsters Composer',\n",
              " 'Game92': 'Monument Valley',\n",
              " 'Game93': 'The Room: Old Sins',\n",
              " 'Game94': 'Human: Fall Flat',\n",
              " 'Game95': \"Where's My Water?\",\n",
              " 'Game96': 'Lara Croft GO',\n",
              " 'Game97': 'Monument Valley 2',\n",
              " 'Game98': 'The Room Two',\n",
              " 'Game99': 'The Room Three'}"
            ]
          },
          "metadata": {},
          "execution_count": 32
        }
      ]
    },
    {
      "cell_type": "code",
      "metadata": {
        "id": "Vu5R_TPD3TeX"
      },
      "source": [
        "# define a function to map the user_id and item_id in the ratings_df to integer indexes\n",
        "def mapdata(ratings_df):\n",
        "  ratings_df[\"item_id\"] = ratings_df[\"item_id\"].astype(str)\n",
        "  ratings_df[\"user_id\"] = ratings_df[\"user_id\"].astype(str)\n",
        "  ratings_df[\"rating\"]  = ratings_df[\"rating\"].values.astype(np.float32)\n",
        "  user_ids = np.sort(ratings_df[\"user_id\"].unique()).tolist()\n",
        "  umap = {x: i for i, x in enumerate(user_ids)}\n",
        "  item_ids = np.sort(ratings_df[\"item_id\"].unique()).tolist()\n",
        "  imap = {x: i for i, x in enumerate(item_ids)}\n",
        "  ratings_df[\"user_id\"] = ratings_df[\"user_id\"].map(umap) # swap userid for user index\n",
        "  ratings_df[\"item_id\"] = ratings_df[\"item_id\"].map(imap) # swap itemid for item index\n",
        "  return ratings_df, umap, imap"
      ],
      "execution_count": 33,
      "outputs": []
    },
    {
      "cell_type": "code",
      "metadata": {
        "id": "ovzt-LGH3Vyw"
      },
      "source": [
        "# define function to convert the ratings_df into the ratings matrix\n",
        "def makeRatingsMatrix(ratings_df):\n",
        "  ratings_df, umap, imap = mapdata(ratings_df)\n",
        "  ratmatrix = pd.pivot_table(ratings_df, index=['user_id'], columns=['item_id'], values=['rating'],aggfunc=[np.mean]).values\n",
        "  return ratmatrix, umap, imap"
      ],
      "execution_count": 34,
      "outputs": []
    },
    {
      "cell_type": "code",
      "metadata": {
        "id": "vY9RWSnB3W0f"
      },
      "source": [
        "ratmatrix, umap, imap = makeRatingsMatrix(ratings_df)"
      ],
      "execution_count": 35,
      "outputs": []
    },
    {
      "cell_type": "code",
      "metadata": {
        "id": "VV8lGDZi5f6G"
      },
      "source": [
        "# define function to calculate similarity by Pearson coefficients\n",
        "def pearsonsim(x,y):\n",
        "    xy = x*y\n",
        "    x = x[np.isnan(xy)==False]\n",
        "    y = y[np.isnan(xy)==False]\n",
        "    if(len(x)==0): return np.nan\n",
        "    mx=np.mean(x)\n",
        "    my=np.mean(y)\n",
        "    rt = np.sqrt(sum((x-mx)**2)*sum((y-my)**2))\n",
        "    if (rt == 0): return np.nan \n",
        "    return sum((x-mx)*(y-my))/rt"
      ],
      "execution_count": 36,
      "outputs": []
    },
    {
      "cell_type": "markdown",
      "metadata": {
        "id": "C_fNKTo-8WaC"
      },
      "source": [
        "User-based Collaborative Filtering Recommender System"
      ]
    },
    {
      "cell_type": "code",
      "metadata": {
        "id": "-9-d-gsg8Ree"
      },
      "source": [
        "# make user-based CF recommendations for a given  user\n",
        "def getRecommendations_UU(targetrats, ratsmatrix, imap, simfun=pearsonsim, topN=5):\n",
        "\n",
        "    # get similarity between target and all other users\n",
        "    sims = []\n",
        "    for row in ratsmatrix:\n",
        "      sims.append(simfun(row,targetrats))\n",
        "    sims = np.array(sims)\n",
        "    sims[sims < 0] = np.nan\n",
        "\n",
        "    # for each unseen item, get weighted average of all user ratings\n",
        "    rats = []\n",
        "    unseenitemidxs = np.where(np.isnan(targetrats)==True)[0]\n",
        "    for col in unseenitemidxs:\n",
        "      rats.append(wtavg(ratsmatrix[:,col], sims))\n",
        "\n",
        "    # put results into a dataframe and reverse sort by predicted rating\n",
        "    itemnames=list(imap.keys())\n",
        "    rats = pd.DataFrame(rats, index=[itemnames[i] for i in unseenitemidxs], columns=['predrating'])\n",
        "    rats = rats.sort_values(ascending = False, by=['predrating'])\n",
        "    return rats[0:min(topN,len(rats))]"
      ],
      "execution_count": 37,
      "outputs": []
    },
    {
      "cell_type": "code",
      "metadata": {
        "colab": {
          "base_uri": "https://localhost:8080/"
        },
        "id": "FQo_ef_R_CIp",
        "outputId": "6d2cd418-fcbe-4583-801b-84d1c6ecfe09"
      },
      "source": [
        "# Select a user called 'zzzpley' as the target user and make  recommendations by user-based CF\n",
        "targetname = \"zzzlepy\"\n",
        "targetrats = ratmatrix[umap[targetname],] \n",
        "simfun=pearsonsim\n",
        "recs = getRecommendations_UU(targetrats, ratmatrix, imap, simfun=simfun, topN = 10)\n",
        "for i in recs.index: \n",
        "  print(\"Predicted Rating: %2.2f, Index for Game: %s, Game Name: %s\" % (recs['predrating'][i], i, titlelookup[i]))"
      ],
      "execution_count": 39,
      "outputs": [
        {
          "output_type": "stream",
          "name": "stdout",
          "text": [
            "Predicted Rating: nan, Index for Game: Game1, Game Name: Grand Theft Auto: San Andreas\n",
            "Predicted Rating: nan, Index for Game: Game10, Game Name: Hitman Sniper\n",
            "Predicted Rating: nan, Index for Game: Game100, Game Name: The Room\n",
            "Predicted Rating: nan, Index for Game: Game101, Game Name: Bridge Constructor Portal\n",
            "Predicted Rating: nan, Index for Game: Game102, Game Name: Motorsport Manager Mobile 2\n",
            "Predicted Rating: nan, Index for Game: Game103, Game Name: Riptide GP2\n",
            "Predicted Rating: nan, Index for Game: Game104, Game Name: Real Drift Car Racing\n",
            "Predicted Rating: nan, Index for Game: Game105, Game Name: F1 2016\n",
            "Predicted Rating: nan, Index for Game: Game106, Game Name: Illegal Race Tuning - Real car racing multiplayer\n",
            "Predicted Rating: nan, Index for Game: Game107, Game Name: Need for Speed Most Wanted\n"
          ]
        }
      ]
    },
    {
      "cell_type": "markdown",
      "metadata": {
        "id": "SDQUvTsk-FKB"
      },
      "source": [
        "It can be seen that the predicted ratings are all NA which may be due to the sparse of the matrix."
      ]
    },
    {
      "cell_type": "markdown",
      "metadata": {
        "id": "ltt9H0OA79Nw"
      },
      "source": [
        "Item-based Collaborative Filtering Recommender System"
      ]
    },
    {
      "cell_type": "code",
      "metadata": {
        "id": "VFzHKu4K7qdO"
      },
      "source": [
        "# make item-based CF recommendations for a given user\n",
        "def getRecommendations_II(targetrats, itemsims, imap, topN=5):\n",
        "\n",
        "    unseenitemidxs = np.where(np.isnan(targetrats)==True)[0]\n",
        "    seenitems = np.isnan(targetrats)==False\n",
        "    rats = []\n",
        "    for row in unseenitemidxs: rats.append(wtavg(targetrats[seenitems],itemsims[row,seenitems]))\n",
        "\n",
        "    itemnames=list(imap.keys()) \n",
        "    rats = pd.DataFrame(np.array(rats), index=[itemnames[i] for i in unseenitemidxs], columns=['predrating'])\n",
        "    rats = rats.sort_values(ascending = False, by=['predrating'])\n",
        "    return rats[0:min(topN,len(rats))]"
      ],
      "execution_count": 41,
      "outputs": []
    },
    {
      "cell_type": "code",
      "metadata": {
        "colab": {
          "base_uri": "https://localhost:8080/"
        },
        "id": "S2riEX7z8mtr",
        "outputId": "4f82e9ec-c4de-4051-9c85-d248e28d61c6"
      },
      "source": [
        "# create an item-item similarity matrix using Pearson coefficients and make recommendations by item-based CF \n",
        "simfun=pearsonsim\n",
        "itemsims = getitemsimsmatrix(ratmatrix, simfun=simfun)\n",
        "print(itemsims.shape)\n",
        "recs = getRecommendations_II(targetrats, itemsims, imap, topN = 10)\n",
        "for i in recs.index: \n",
        "  print(\"Predicted Rating: %2.2f, Index for Game: %s, Game Name: %s\" % (recs['predrating'][i], i, titlelookup[i]))"
      ],
      "execution_count": 43,
      "outputs": [
        {
          "output_type": "stream",
          "name": "stdout",
          "text": [
            "(170, 170)\n",
            "Predicted Rating: 5.00, Index for Game: Game127, Game Name: Evertale\n",
            "Predicted Rating: 5.00, Index for Game: Game9, Game Name: Five Nights at Freddy's\n",
            "Predicted Rating: 5.00, Index for Game: Game1, Game Name: Grand Theft Auto: San Andreas\n",
            "Predicted Rating: 5.00, Index for Game: Game30, Game Name: THE KING OF FIGHTERS-A 2012\n",
            "Predicted Rating: 5.00, Index for Game: Game45, Game Name: Through the Ages\n",
            "Predicted Rating: 5.00, Index for Game: Game44, Game Name: Chess - Analyze This (Pro)\n",
            "Predicted Rating: 5.00, Index for Game: Game42, Game Name: Monopoly - Board game classic about real-estate!\n",
            "Predicted Rating: 5.00, Index for Game: Game40, Game Name: Max Payne Mobile\n",
            "Predicted Rating: 5.00, Index for Game: Game38, Game Name: Grand Theft Auto: Vice City\n",
            "Predicted Rating: 5.00, Index for Game: Game36, Game Name: Space Shooter: Alien vs Galaxy Attack (Premium)\n"
          ]
        }
      ]
    },
    {
      "cell_type": "markdown",
      "metadata": {
        "id": "TUFfO3Wq74Lu"
      },
      "source": [
        "Evaluate The Model"
      ]
    },
    {
      "cell_type": "code",
      "metadata": {
        "colab": {
          "base_uri": "https://localhost:8080/"
        },
        "id": "LWei1VyY_lv6",
        "outputId": "282f113c-1c02-46df-e1b0-a957643c5179"
      },
      "source": [
        "# evaluation: To test on a random set (20% of the dataset)\n",
        "testsize = int(len(ratmatrix)*0.2)\n",
        "random.seed(66)\n",
        "testidx  = random.sample(range(ratings_df.shape[0]), testsize) \n",
        "testevents = ratings_df.iloc[testidx,].values\n",
        "np.set_printoptions(suppress=True) \n",
        "testevents[0:3]"
      ],
      "execution_count": 45,
      "outputs": [
        {
          "output_type": "execute_result",
          "data": {
            "text/plain": [
              "array([[ 16616.,     67.,      1.],\n",
              "       [113840.,    130.,      4.],\n",
              "       [163633.,     74.,      3.]])"
            ]
          },
          "metadata": {},
          "execution_count": 45
        }
      ]
    },
    {
      "cell_type": "code",
      "metadata": {
        "id": "OOCGjdHU_l1A"
      },
      "source": [
        "# blank out the test ratings in ratmatrix\n",
        "for [u,i,rating] in testevents: \n",
        "  ratmatrix[int(u),int(i)] = np.nan"
      ],
      "execution_count": 47,
      "outputs": []
    },
    {
      "cell_type": "code",
      "metadata": {
        "id": "5TOf_KVY_s1f"
      },
      "source": [
        "# define a function to compute predicted ratings for the testing dataset\n",
        "def predictRatings(testevents, ratsmatrix, itemsims):\n",
        "    preds = []\n",
        "    for testevent in testevents:\n",
        "        print('.', end = '')\n",
        "        testuser = int(testevent[0])\n",
        "        testitem = int(testevent[1])\n",
        "        testuserrats = ratsmatrix[testuser,:]\n",
        "        testitemrats = ratsmatrix[:,testitem]\n",
        "        seenitems = np.isnan(testuserrats) == False\n",
        "        predrat = wtavg(testuserrats[seenitems],itemsims[testitem,seenitems])\n",
        "        preds.append(predrat)\n",
        "    return np.array(preds)"
      ],
      "execution_count": 56,
      "outputs": []
    },
    {
      "cell_type": "code",
      "metadata": {
        "colab": {
          "base_uri": "https://localhost:8080/"
        },
        "id": "WsBoTIA3KfkC",
        "outputId": "c1b3a052-db35-49a1-d06c-b476cbc60dcc"
      },
      "source": [
        "ratmatrixFull = np.nan_to_num(ratmatrix)\n",
        "print(ratmatrixFull)\n",
        "itemsims = np.corrcoef(ratmatrixFull, rowvar=False)\n",
        "itemsims"
      ],
      "execution_count": 51,
      "outputs": [
        {
          "output_type": "stream",
          "name": "stdout",
          "text": [
            "[[0. 0. 0. ... 0. 0. 0.]\n",
            " [0. 0. 0. ... 0. 0. 0.]\n",
            " [0. 0. 0. ... 0. 0. 0.]\n",
            " ...\n",
            " [0. 0. 0. ... 0. 0. 0.]\n",
            " [0. 0. 0. ... 0. 0. 0.]\n",
            " [0. 0. 0. ... 0. 0. 0.]]\n"
          ]
        },
        {
          "output_type": "execute_result",
          "data": {
            "text/plain": [
              "array([[ 1.        , -0.00363179, -0.00688166, ..., -0.00560421,\n",
              "        -0.00632676, -0.00644521],\n",
              "       [-0.00363179,  1.        , -0.00893721, ..., -0.00435351,\n",
              "        -0.00606103, -0.00541902],\n",
              "       [-0.00688166, -0.00893721,  1.        , ..., -0.00424069,\n",
              "         0.06793573,  0.05004875],\n",
              "       ...,\n",
              "       [-0.00560421, -0.00435351, -0.00424069, ...,  1.        ,\n",
              "        -0.00249698,  0.0016583 ],\n",
              "       [-0.00632676, -0.00606103,  0.06793573, ..., -0.00249698,\n",
              "         1.        ,  0.06787903],\n",
              "       [-0.00644521, -0.00541902,  0.05004875, ...,  0.0016583 ,\n",
              "         0.06787903,  1.        ]])"
            ]
          },
          "metadata": {},
          "execution_count": 51
        }
      ]
    },
    {
      "cell_type": "code",
      "metadata": {
        "id": "dVeBmTG2Kl6q"
      },
      "source": [
        "# Define a function to compute similarities between items in the ratings matrix using Pearson Coefficients\n",
        "def getitemsimsmatrix(ratsmatrix,simfun=pearsonsim):\n",
        "    r,c = ratsmatrix.shape\n",
        "    matrx = list()\n",
        "    for col1 in range(0,c):\n",
        "        simrow = [0]*col1\n",
        "        for col2 in range(col1,c):\n",
        "            simrow.append(simfun(ratsmatrix[:,col1],ratsmatrix[:,col2]))\n",
        "        matrx.append(simrow)\n",
        "    matrx = np.array(matrx)\n",
        "    matrx = matrx + matrx.T - np.diag(np.diag(matrx))\n",
        "    return matrx"
      ],
      "execution_count": 53,
      "outputs": []
    },
    {
      "cell_type": "code",
      "metadata": {
        "colab": {
          "base_uri": "https://localhost:8080/"
        },
        "id": "asqMI5vKKoAY",
        "outputId": "8625fbc9-ebb9-4564-e057-f93124ca0309"
      },
      "source": [
        "# compute the item-item based recommendations\n",
        "simfun=pearsonsim\n",
        "itemsims = getitemsimsmatrix(ratmatrix, simfun=simfun)\n",
        "print(itemsims.shape)\n",
        "itemsims"
      ],
      "execution_count": 57,
      "outputs": [
        {
          "output_type": "stream",
          "name": "stdout",
          "text": [
            "(170, 170)\n"
          ]
        },
        {
          "output_type": "execute_result",
          "data": {
            "text/plain": [
              "array([[ 1.        ,  0.03492152,  0.30029508, ..., -0.3503293 ,\n",
              "        -0.50000002, -0.8660254 ],\n",
              "       [ 0.03492152,  1.        , -0.24019224, ..., -0.13810711,\n",
              "         0.86602541,  0.57735027],\n",
              "       [ 0.30029508, -0.24019224,  1.        , ...,  0.07026634,\n",
              "         0.74917034,  0.70644097],\n",
              "       ...,\n",
              "       [-0.3503293 , -0.13810711,  0.07026634, ...,  1.        ,\n",
              "        -0.2903018 ,  0.5024481 ],\n",
              "       [-0.50000002,  0.86602541,  0.74917034, ..., -0.2903018 ,\n",
              "         1.        ,  0.7252305 ],\n",
              "       [-0.8660254 ,  0.57735027,  0.70644097, ...,  0.5024481 ,\n",
              "         0.7252305 ,  1.        ]])"
            ]
          },
          "metadata": {},
          "execution_count": 57
        }
      ]
    },
    {
      "cell_type": "code",
      "metadata": {
        "colab": {
          "base_uri": "https://localhost:8080/"
        },
        "id": "_m-mk62FDn29",
        "outputId": "e2bccd3b-650c-484b-80b1-443abaac6bb8"
      },
      "source": [
        "# compute MAE for item-based CF using pearson coefficients\n",
        "simfun=pearsonsim\n",
        "preds = predictRatings(testevents, ratmatrix, itemsims)\n",
        "print(\"\\nMAE for Item-based Recommender System: \",np.nanmean(abs(preds-testevents[:,2])))"
      ],
      "execution_count": 58,
      "outputs": [
        {
          "output_type": "stream",
          "name": "stdout",
          "text": [
            ".....................................................................................................................................................................................................................................................................................................................................................................................................................................................................................................................................................................................................................................................................................................................................................................................................................................................................................................................................................................................................................................................................................................................................................................................................................................................................................................................................................................................................................................................................................................................................................................................................................................................................................................................................................................................................................................................................................................................................................................................................................................................................................................................................................................................................................................................................................................................................................................................................................................................................................................................................................................................................................................................................................................................................................................................................................................................................................................................................................................................................................................................................................................................................................................................................................................................................................................................................................................................................................................................................................................................................................................................................................................................................................................................................................................................................................................................................................................................................................................................................................................................................................................................................................................................................................................................................................................................................................................................................................................................................................................................................................................................................................................................................................................................................................................................................................................................................................................................................................................................................................................................................................................................................................................................................................................................................................................................................................................................................................................................................................................................................................................................................................................................................................................................................................................................................................................................................................................................................................................................................................................................................................................................................................................................................................................................................................................................................................................................................................................................................................................................................................................................................................................................................................................................................................................................................................................................................................................................................................................................................................................................................................................................................................................................................................................................................................................................................................................................................................................................................................................................................................................................................................................................................................................................................................................................................................................................................................................................................................................................................................................................................................................................................................................................................................................................................................................................................................................................................................................................................................................................................................................................................................................................................................................................................................................................................................................................................................................................................................................................................................................................................................................................................................................................................................................................................................................................................................................................................................................................................................................................................................................................................................................................................................................................................................................................................................................................................................................................................................................................................................................................................................................................................................................................................................................................................................................................................................................................................................................................................................................................................................................................................................................................................................................................................................................................................................................................................................................................................................................................................................................................................................................................................................................................................................................................................................................................................................................................................................................................................................................................................................................................................................................................................................................................................................................................................................................................................................................................................................................................................................................................................................................................................................................................................................................................................................................................................................................................................................................................................................................................................................................................................................................................................................................................................................................................................................................................................................................................................................................................................................................................................................................................................................................................................................................................................................................................................................................................................................................................................................................................................................................................................................................................................................................................................................................................................................................................................................................................................................................................................................................................................................................................................................................................................................................................................................................................................................................................................................................................................................................................................................................................................................................................................................................................................................................................................................................................................................................................................................................................................................................................................................................................................................................................................................................................................................................................................................................................................................................................................................................................................................................................................................................................................................................................................................................................................................................................................................................................................................................................................................................................................................................................................................................................................................................................................................................................................................................................................................................................................................................................................................................................................................................................................................................................................................................................................................................................................................................................................................................................................................................................................................................................................................................................................................................................................................................................................................................................................................................................................................................................................................................................................................................................................................................................................................................................................................................................................................................................................................................................................................................................................................................................................................................................................................................................................................................................................................................................................................................................................................................................................................................................................................................................................................................................................................................................................................................................................................................................................................................................................................................................................................................................................................................................................................................................................................................................................................................................................................................................................................................................................................................................................................................................................................................................................................................................................................................................................................................................................................................................................................................................................................................................................................................................................................................................................................................................................................................................................................................................................................................................................................................................................................................................................................................................................................................................................................................................................................................................................................................................................................................................................................................................................................................................................................................................................................................................................................................................................................................................................................................................................................................................................................................................................................................................................................................................................................................................................................................................................................................................................................................................................................................................................................................................................................................................................................................................................................................................................................................................................................................................................................................................................................................................................................................................................................................................................................................................................................................................................................................................................................................................................................................................................................................................................................................................................................................................................................................................................................................................................................................................................................................................................................................................................................................................................................................................................................................................................................................................................................................................................................................................................................................................................................................................................................................................................................................................................................................................................................................................................................................................................................................................................................................................................................................................................................................................................................................................................................................................................................................................................................................................................................................................................................................................................................................................................................................................................................................................................................................................................................................................................................................................................................................................................................................................................................................................................................................................................................................................................................................................................................................................................................................................................................................................................................................................................................................................................................................................................................................................................................................................................................................................................................................................................................................................................................................................................................................................................................................................................................................................................................................................................................................................................................................................................................................................................................................................................................................................................................................................................................................................................................................................................................................................................................................................................................................................................................................................................................................................................................................................................................................................................................................................................................................................................................................................................................................................................................................................................................................................................................................................................................................................................................................................................................................................................................................................................................................................................................................................................................................................................................................................................................................................................................................................................................................................................................................................................................................................................................................................................................................................................................................................................................................................................................................................................................................................................................................................................................................................................................................................................................................................................................................................................................................................................................................................................................................................................................................................................................................................................................................................................................................................................................................................................................................................................................................................................................................................................................................................................................................................................................................................................................................................................................................................................................................................................................................................................................................................................................................................................................................................................................................................................................................................................................................................................................................................................................................................................................................................................................................................................................................................................................................................................................................................................................................................................................................................................................................................................................................................................................................................................................................................................................................................................................................................................................................................................................................................................................................................................................................................................................................................................................................................................................................................................................................................................................................................................................................................................................................................................................................................................................................................................................................................................................................................................................................................................................................................................................................................................................................................................................................................................................................................................................................................................................................................................................................................................................................................................................................................................................................................................................................................................................................................................................................................................................................................................................................................................................................................................................................................................................................................................................................................................................................................................................................................................................................................................................................................................................................................................................................................................................................................................................................................................................................................................................................................................................................................................................................................................................................................................................................................................................................................................................................................................................................................................................................................................................................................................................................................................................................................................................................................................................................................................................................................................................................................................................................................................................................................................................................................................................................................................................................................................................................................................................................................................................................................................................................................................................................................................................................................................................................................................................................................................................................................................................................................................................................................................................................................................................................................................................................................................................................................................................................................................................................................................................................................................................................................................................................................................................................................................................................................................................................................................................................................................................................................................................................................................................................................................................................................................................................................................................................................................................................................................................................................................................................................................................................................................................................................................................................................................................................................................................................................................................................................................................................................................................................................................................................................................................................................................................................................................................................................................................................................................................................................................................................................................................................................................................................................................................................................................................................................................................................................................................................................................................................................................................................................................................................................................................................................................................................................................................................................................................................................................................................................................................................................................................................................................................................................................................................................................................................................................................................................................................................................................................................................................................................................................................................................................................................................................................................................................................................................................................................................................................................................................................................................................................................................................................................................................................................................................................................................................................................................................................................................................................................................................................................................................................................................................................................................................................................................................................................................................................................................................................................................................................................................................................................................................................................................................................................................................................................................................................................................................................................................................................................................................................................................................................................................................................................................................................................................................................................................................................................................................................................................................................................................................................................................................................................................................................................................................................................................................................................................................................................................................................................................................................................................................................................................................................................................................................................................................................................................................................................................................................................................................................................................................................................................................................................................................................................................................................................................................................................................................................................................................................................................................................................................................................................................................................................................................................................................................................................................................................................................................................................................................................................................................................................................................................................................................................................................................................................................................................................................................................................................................................................................................................................................................................................................................................................................................................................................................................................................................................................................................................................................................................................................................................................................................................................................................................................................................................................................................................................................................................................................................................................................................................................................................................................................................................................................................................................................................................................................................................................................................................................................................................................................................................................................................................................................................................................................................................................................................................................................................................................................................................................................................................................................................................................................................................................................................................................................................................................................................................................................................................................................................................................................................................................................................................................................................................................................................................................................................................................................................................................................................................................................................................................................................................................................................................................................................................................................................................................................................\n",
            "MAE for Item-based Recommender System:  2808.037875764732\n"
          ]
        }
      ]
    }
  ]
}