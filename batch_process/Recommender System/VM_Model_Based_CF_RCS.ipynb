{
  "nbformat": 4,
  "nbformat_minor": 0,
  "metadata": {
    "colab": {
      "name": "VM_Model_Based_CF_RCS.ipynb",
      "provenance": []
    },
    "kernelspec": {
      "name": "python3",
      "display_name": "Python 3"
    },
    "language_info": {
      "name": "python"
    }
  },
  "cells": [
    {
      "cell_type": "markdown",
      "metadata": {
        "id": "Dk6Gd-h1jij0"
      },
      "source": [
        "Install and import necessary packages to load data from GCP and build model-based collaborative filtering recommender system"
      ]
    },
    {
      "cell_type": "code",
      "metadata": {
        "colab": {
          "base_uri": "https://localhost:8080/"
        },
        "id": "GQD8nlxxqQf_",
        "outputId": "f37bd6c0-1dbd-4f5e-a967-45b949e40f0f"
      },
      "source": [
        "pip install --upgrade google-cloud-storage # install necessary package to load data from GCP"
      ],
      "execution_count": null,
      "outputs": [
        {
          "output_type": "stream",
          "name": "stdout",
          "text": [
            "Requirement already satisfied: google-cloud-storage in /usr/local/lib/python3.7/dist-packages (1.43.0)\n",
            "Requirement already satisfied: protobuf in /usr/local/lib/python3.7/dist-packages (from google-cloud-storage) (3.17.3)\n",
            "Requirement already satisfied: google-cloud-core<3.0dev,>=1.6.0 in /usr/local/lib/python3.7/dist-packages (from google-cloud-storage) (2.2.1)\n",
            "Requirement already satisfied: requests<3.0.0dev,>=2.18.0 in /usr/local/lib/python3.7/dist-packages (from google-cloud-storage) (2.23.0)\n",
            "Requirement already satisfied: google-api-core<3.0dev,>=1.29.0 in /usr/local/lib/python3.7/dist-packages (from google-cloud-storage) (2.2.2)\n",
            "Requirement already satisfied: six in /usr/local/lib/python3.7/dist-packages (from google-cloud-storage) (1.15.0)\n",
            "Requirement already satisfied: google-resumable-media<3.0dev,>=1.3.0 in /usr/local/lib/python3.7/dist-packages (from google-cloud-storage) (2.1.0)\n",
            "Requirement already satisfied: google-auth<3.0dev,>=1.25.0 in /usr/local/lib/python3.7/dist-packages (from google-cloud-storage) (1.35.0)\n",
            "Requirement already satisfied: googleapis-common-protos<2.0dev,>=1.52.0 in /usr/local/lib/python3.7/dist-packages (from google-api-core<3.0dev,>=1.29.0->google-cloud-storage) (1.53.0)\n",
            "Requirement already satisfied: setuptools>=40.3.0 in /usr/local/lib/python3.7/dist-packages (from google-api-core<3.0dev,>=1.29.0->google-cloud-storage) (57.4.0)\n",
            "Requirement already satisfied: cachetools<5.0,>=2.0.0 in /usr/local/lib/python3.7/dist-packages (from google-auth<3.0dev,>=1.25.0->google-cloud-storage) (4.2.2)\n",
            "Requirement already satisfied: pyasn1-modules>=0.2.1 in /usr/local/lib/python3.7/dist-packages (from google-auth<3.0dev,>=1.25.0->google-cloud-storage) (0.2.8)\n",
            "Requirement already satisfied: rsa<5,>=3.1.4 in /usr/local/lib/python3.7/dist-packages (from google-auth<3.0dev,>=1.25.0->google-cloud-storage) (4.7.2)\n",
            "Requirement already satisfied: google-crc32c<2.0dev,>=1.0 in /usr/local/lib/python3.7/dist-packages (from google-resumable-media<3.0dev,>=1.3.0->google-cloud-storage) (1.3.0)\n",
            "Requirement already satisfied: pyasn1<0.5.0,>=0.4.6 in /usr/local/lib/python3.7/dist-packages (from pyasn1-modules>=0.2.1->google-auth<3.0dev,>=1.25.0->google-cloud-storage) (0.4.8)\n",
            "Requirement already satisfied: certifi>=2017.4.17 in /usr/local/lib/python3.7/dist-packages (from requests<3.0.0dev,>=2.18.0->google-cloud-storage) (2021.5.30)\n",
            "Requirement already satisfied: chardet<4,>=3.0.2 in /usr/local/lib/python3.7/dist-packages (from requests<3.0.0dev,>=2.18.0->google-cloud-storage) (3.0.4)\n",
            "Requirement already satisfied: idna<3,>=2.5 in /usr/local/lib/python3.7/dist-packages (from requests<3.0.0dev,>=2.18.0->google-cloud-storage) (2.10)\n",
            "Requirement already satisfied: urllib3!=1.25.0,!=1.25.1,<1.26,>=1.21.1 in /usr/local/lib/python3.7/dist-packages (from requests<3.0.0dev,>=2.18.0->google-cloud-storage) (1.24.3)\n"
          ]
        }
      ]
    },
    {
      "cell_type": "code",
      "metadata": {
        "colab": {
          "base_uri": "https://localhost:8080/"
        },
        "id": "_CmobIMorl-Q",
        "outputId": "d9a8bda9-5db5-4c93-e51e-d9c18952c95a"
      },
      "source": [
        "pip install fsspec # install necessary package to load data from GCP"
      ],
      "execution_count": null,
      "outputs": [
        {
          "output_type": "stream",
          "name": "stdout",
          "text": [
            "Requirement already satisfied: fsspec in /usr/local/lib/python3.7/dist-packages (2021.11.0)\n"
          ]
        }
      ]
    },
    {
      "cell_type": "code",
      "metadata": {
        "colab": {
          "base_uri": "https://localhost:8080/"
        },
        "id": "Y-p8uTjdrpMa",
        "outputId": "5a13919f-f8f7-4337-c26c-6c544a85ade1"
      },
      "source": [
        "pip install gcsfs # install necessary package to load data from GCP"
      ],
      "execution_count": null,
      "outputs": [
        {
          "output_type": "stream",
          "name": "stdout",
          "text": [
            "Requirement already satisfied: gcsfs in /usr/local/lib/python3.7/dist-packages (2021.11.0)\n",
            "Requirement already satisfied: google-auth-oauthlib in /usr/local/lib/python3.7/dist-packages (from gcsfs) (0.4.6)\n",
            "Requirement already satisfied: fsspec==2021.11.0 in /usr/local/lib/python3.7/dist-packages (from gcsfs) (2021.11.0)\n",
            "Requirement already satisfied: google-cloud-storage in /usr/local/lib/python3.7/dist-packages (from gcsfs) (1.43.0)\n",
            "Requirement already satisfied: requests in /usr/local/lib/python3.7/dist-packages (from gcsfs) (2.23.0)\n",
            "Requirement already satisfied: aiohttp in /usr/local/lib/python3.7/dist-packages (from gcsfs) (3.8.1)\n",
            "Requirement already satisfied: decorator>4.1.2 in /usr/local/lib/python3.7/dist-packages (from gcsfs) (4.4.2)\n",
            "Requirement already satisfied: google-auth>=1.2 in /usr/local/lib/python3.7/dist-packages (from gcsfs) (1.35.0)\n",
            "Requirement already satisfied: rsa<5,>=3.1.4 in /usr/local/lib/python3.7/dist-packages (from google-auth>=1.2->gcsfs) (4.7.2)\n",
            "Requirement already satisfied: pyasn1-modules>=0.2.1 in /usr/local/lib/python3.7/dist-packages (from google-auth>=1.2->gcsfs) (0.2.8)\n",
            "Requirement already satisfied: six>=1.9.0 in /usr/local/lib/python3.7/dist-packages (from google-auth>=1.2->gcsfs) (1.15.0)\n",
            "Requirement already satisfied: setuptools>=40.3.0 in /usr/local/lib/python3.7/dist-packages (from google-auth>=1.2->gcsfs) (57.4.0)\n",
            "Requirement already satisfied: cachetools<5.0,>=2.0.0 in /usr/local/lib/python3.7/dist-packages (from google-auth>=1.2->gcsfs) (4.2.2)\n",
            "Requirement already satisfied: pyasn1<0.5.0,>=0.4.6 in /usr/local/lib/python3.7/dist-packages (from pyasn1-modules>=0.2.1->google-auth>=1.2->gcsfs) (0.4.8)\n",
            "Requirement already satisfied: attrs>=17.3.0 in /usr/local/lib/python3.7/dist-packages (from aiohttp->gcsfs) (21.2.0)\n",
            "Requirement already satisfied: async-timeout<5.0,>=4.0.0a3 in /usr/local/lib/python3.7/dist-packages (from aiohttp->gcsfs) (4.0.1)\n",
            "Requirement already satisfied: aiosignal>=1.1.2 in /usr/local/lib/python3.7/dist-packages (from aiohttp->gcsfs) (1.2.0)\n",
            "Requirement already satisfied: asynctest==0.13.0 in /usr/local/lib/python3.7/dist-packages (from aiohttp->gcsfs) (0.13.0)\n",
            "Requirement already satisfied: charset-normalizer<3.0,>=2.0 in /usr/local/lib/python3.7/dist-packages (from aiohttp->gcsfs) (2.0.6)\n",
            "Requirement already satisfied: multidict<7.0,>=4.5 in /usr/local/lib/python3.7/dist-packages (from aiohttp->gcsfs) (5.2.0)\n",
            "Requirement already satisfied: yarl<2.0,>=1.0 in /usr/local/lib/python3.7/dist-packages (from aiohttp->gcsfs) (1.7.2)\n",
            "Requirement already satisfied: frozenlist>=1.1.1 in /usr/local/lib/python3.7/dist-packages (from aiohttp->gcsfs) (1.2.0)\n",
            "Requirement already satisfied: typing-extensions>=3.7.4 in /usr/local/lib/python3.7/dist-packages (from aiohttp->gcsfs) (3.7.4.3)\n",
            "Requirement already satisfied: idna>=2.0 in /usr/local/lib/python3.7/dist-packages (from yarl<2.0,>=1.0->aiohttp->gcsfs) (2.10)\n",
            "Requirement already satisfied: requests-oauthlib>=0.7.0 in /usr/local/lib/python3.7/dist-packages (from google-auth-oauthlib->gcsfs) (1.3.0)\n",
            "Requirement already satisfied: oauthlib>=3.0.0 in /usr/local/lib/python3.7/dist-packages (from requests-oauthlib>=0.7.0->google-auth-oauthlib->gcsfs) (3.1.1)\n",
            "Requirement already satisfied: urllib3!=1.25.0,!=1.25.1,<1.26,>=1.21.1 in /usr/local/lib/python3.7/dist-packages (from requests->gcsfs) (1.24.3)\n",
            "Requirement already satisfied: chardet<4,>=3.0.2 in /usr/local/lib/python3.7/dist-packages (from requests->gcsfs) (3.0.4)\n",
            "Requirement already satisfied: certifi>=2017.4.17 in /usr/local/lib/python3.7/dist-packages (from requests->gcsfs) (2021.5.30)\n",
            "Requirement already satisfied: protobuf in /usr/local/lib/python3.7/dist-packages (from google-cloud-storage->gcsfs) (3.17.3)\n",
            "Requirement already satisfied: google-cloud-core<3.0dev,>=1.6.0 in /usr/local/lib/python3.7/dist-packages (from google-cloud-storage->gcsfs) (2.2.1)\n",
            "Requirement already satisfied: google-api-core<3.0dev,>=1.29.0 in /usr/local/lib/python3.7/dist-packages (from google-cloud-storage->gcsfs) (2.2.2)\n",
            "Requirement already satisfied: google-resumable-media<3.0dev,>=1.3.0 in /usr/local/lib/python3.7/dist-packages (from google-cloud-storage->gcsfs) (2.1.0)\n",
            "Requirement already satisfied: googleapis-common-protos<2.0dev,>=1.52.0 in /usr/local/lib/python3.7/dist-packages (from google-api-core<3.0dev,>=1.29.0->google-cloud-storage->gcsfs) (1.53.0)\n",
            "Requirement already satisfied: google-crc32c<2.0dev,>=1.0 in /usr/local/lib/python3.7/dist-packages (from google-resumable-media<3.0dev,>=1.3.0->google-cloud-storage->gcsfs) (1.3.0)\n"
          ]
        }
      ]
    },
    {
      "cell_type": "code",
      "metadata": {
        "colab": {
          "base_uri": "https://localhost:8080/"
        },
        "id": "hHjocjw0sW5O",
        "outputId": "746a951d-9eec-47d3-9f41-3892aa33302e"
      },
      "source": [
        "pip install pyspark # install necessary package to build model-based collaborative filtering recommender system"
      ],
      "execution_count": null,
      "outputs": [
        {
          "output_type": "stream",
          "name": "stdout",
          "text": [
            "Requirement already satisfied: pyspark in /usr/local/lib/python3.7/dist-packages (3.2.0)\n",
            "Requirement already satisfied: py4j==0.10.9.2 in /usr/local/lib/python3.7/dist-packages (from pyspark) (0.10.9.2)\n"
          ]
        }
      ]
    },
    {
      "cell_type": "code",
      "metadata": {
        "id": "QBpqpJYZqgBS"
      },
      "source": [
        "# import necessary packages and functions to load data from GCP\n",
        "import os\n",
        "from google.cloud import storage\n",
        "import pandas as pd"
      ],
      "execution_count": null,
      "outputs": []
    },
    {
      "cell_type": "code",
      "metadata": {
        "id": "jGnLPv2-qZgv"
      },
      "source": [
        "# import necessary packages and functions to build model-based collaborative filtering recommender system\n",
        "from pyspark.sql import Row\n",
        "from pyspark.sql import SparkSession\n",
        "from pyspark.ml.recommendation import ALS\n",
        "from pyspark.ml.evaluation import RegressionEvaluator"
      ],
      "execution_count": null,
      "outputs": []
    },
    {
      "cell_type": "markdown",
      "metadata": {
        "id": "-EFDwfhiklFB"
      },
      "source": [
        "Spark Configuration"
      ]
    },
    {
      "cell_type": "code",
      "metadata": {
        "colab": {
          "base_uri": "https://localhost:8080/",
          "height": 216
        },
        "id": "ugETIFcBr1RE",
        "outputId": "67577984-eae1-4889-db24-016db8d27a6e"
      },
      "source": [
        "#spark configuration\n",
        "spark = SparkSession.builder.getOrCreate()\n",
        "spark"
      ],
      "execution_count": null,
      "outputs": [
        {
          "output_type": "execute_result",
          "data": {
            "text/html": [
              "\n",
              "            <div>\n",
              "                <p><b>SparkSession - in-memory</b></p>\n",
              "                \n",
              "        <div>\n",
              "            <p><b>SparkContext</b></p>\n",
              "\n",
              "            <p><a href=\"http://76046f7bd197:4040\">Spark UI</a></p>\n",
              "\n",
              "            <dl>\n",
              "              <dt>Version</dt>\n",
              "                <dd><code>v3.2.0</code></dd>\n",
              "              <dt>Master</dt>\n",
              "                <dd><code>local[*]</code></dd>\n",
              "              <dt>AppName</dt>\n",
              "                <dd><code>pyspark-shell</code></dd>\n",
              "            </dl>\n",
              "        </div>\n",
              "        \n",
              "            </div>\n",
              "        "
            ],
            "text/plain": [
              "<pyspark.sql.session.SparkSession at 0x7f6934e7a950>"
            ]
          },
          "metadata": {},
          "execution_count": 7
        }
      ]
    },
    {
      "cell_type": "markdown",
      "metadata": {
        "id": "-jmZTRy0knx4"
      },
      "source": [
        "Load Data from Google Cloud Storage"
      ]
    },
    {
      "cell_type": "code",
      "metadata": {
        "colab": {
          "base_uri": "https://localhost:8080/",
          "height": 419
        },
        "id": "aiE7NwsjstEa",
        "outputId": "37712027-8f56-4fdf-ff32-284fa10e026a"
      },
      "source": [
        "# load data from GCP\n",
        "os.environ['GOOGLE_APPLICATION_CREDENTIALS'] = '/content/eloquent-life-328614-f56ab675c052.json'\n",
        "storage_client = storage.Client()\n",
        "bucket = storage_client.get_bucket('data5006_batch')\n",
        "ratings = pd.read_csv('gs://data5006_batch/Google_Game_Ratings.csv')\n",
        "ratings"
      ],
      "execution_count": null,
      "outputs": [
        {
          "output_type": "execute_result",
          "data": {
            "text/html": [
              "<div>\n",
              "<style scoped>\n",
              "    .dataframe tbody tr th:only-of-type {\n",
              "        vertical-align: middle;\n",
              "    }\n",
              "\n",
              "    .dataframe tbody tr th {\n",
              "        vertical-align: top;\n",
              "    }\n",
              "\n",
              "    .dataframe thead th {\n",
              "        text-align: right;\n",
              "    }\n",
              "</style>\n",
              "<table border=\"1\" class=\"dataframe\">\n",
              "  <thead>\n",
              "    <tr style=\"text-align: right;\">\n",
              "      <th></th>\n",
              "      <th>user_id</th>\n",
              "      <th>item_id</th>\n",
              "      <th>rating</th>\n",
              "    </tr>\n",
              "  </thead>\n",
              "  <tbody>\n",
              "    <tr>\n",
              "      <th>0</th>\n",
              "      <td>-9</td>\n",
              "      <td>Game133</td>\n",
              "      <td>3</td>\n",
              "    </tr>\n",
              "    <tr>\n",
              "      <th>1</th>\n",
              "      <td>0</td>\n",
              "      <td>Game9</td>\n",
              "      <td>2</td>\n",
              "    </tr>\n",
              "    <tr>\n",
              "      <th>2</th>\n",
              "      <td>0</td>\n",
              "      <td>Game14</td>\n",
              "      <td>4</td>\n",
              "    </tr>\n",
              "    <tr>\n",
              "      <th>3</th>\n",
              "      <td>0</td>\n",
              "      <td>Game129</td>\n",
              "      <td>4</td>\n",
              "    </tr>\n",
              "    <tr>\n",
              "      <th>4</th>\n",
              "      <td>0</td>\n",
              "      <td>Game152</td>\n",
              "      <td>5</td>\n",
              "    </tr>\n",
              "    <tr>\n",
              "      <th>...</th>\n",
              "      <td>...</td>\n",
              "      <td>...</td>\n",
              "      <td>...</td>\n",
              "    </tr>\n",
              "    <tr>\n",
              "      <th>289582</th>\n",
              "      <td>zzz zzz</td>\n",
              "      <td>Game2</td>\n",
              "      <td>2</td>\n",
              "    </tr>\n",
              "    <tr>\n",
              "      <th>289583</th>\n",
              "      <td>Zzzdreaminq</td>\n",
              "      <td>Game78</td>\n",
              "      <td>5</td>\n",
              "    </tr>\n",
              "    <tr>\n",
              "      <th>289584</th>\n",
              "      <td>zzzlepy</td>\n",
              "      <td>Game37</td>\n",
              "      <td>5</td>\n",
              "    </tr>\n",
              "    <tr>\n",
              "      <th>289585</th>\n",
              "      <td>Zzzz Zzzz</td>\n",
              "      <td>Game138</td>\n",
              "      <td>5</td>\n",
              "    </tr>\n",
              "    <tr>\n",
              "      <th>289586</th>\n",
              "      <td>TRUE</td>\n",
              "      <td>Game15</td>\n",
              "      <td>3</td>\n",
              "    </tr>\n",
              "  </tbody>\n",
              "</table>\n",
              "<p>289587 rows × 3 columns</p>\n",
              "</div>"
            ],
            "text/plain": [
              "            user_id  item_id  rating\n",
              "0                -9  Game133       3\n",
              "1                 0    Game9       2\n",
              "2                 0   Game14       4\n",
              "3                 0  Game129       4\n",
              "4                 0  Game152       5\n",
              "...             ...      ...     ...\n",
              "289582      zzz zzz    Game2       2\n",
              "289583  Zzzdreaminq   Game78       5\n",
              "289584      zzzlepy   Game37       5\n",
              "289585    Zzzz Zzzz  Game138       5\n",
              "289586         TRUE   Game15       3\n",
              "\n",
              "[289587 rows x 3 columns]"
            ]
          },
          "metadata": {},
          "execution_count": 8
        }
      ]
    },
    {
      "cell_type": "code",
      "metadata": {
        "colab": {
          "base_uri": "https://localhost:8080/"
        },
        "id": "_pYBUvSEs0F7",
        "outputId": "66c6895e-26e6-4362-8222-e5338a382845"
      },
      "source": [
        "# convert pandas data frame into spark\n",
        "ratings_values = ratings.values.tolist()\n",
        "ratings_columns = list(ratings.columns)\n",
        "ratings = spark.createDataFrame(ratings_values, ratings_columns)\n",
        "ratings.show()"
      ],
      "execution_count": null,
      "outputs": [
        {
          "output_type": "stream",
          "name": "stdout",
          "text": [
            "+-------+-------+------+\n",
            "|user_id|item_id|rating|\n",
            "+-------+-------+------+\n",
            "|     -9|Game133|     3|\n",
            "|      0|  Game9|     2|\n",
            "|      0| Game14|     4|\n",
            "|      0|Game129|     4|\n",
            "|      0|Game152|     5|\n",
            "|4:00 PM|Game123|     4|\n",
            "|      1|Game112|     5|\n",
            "|      2|Game107|     2|\n",
            "|    6.1|Game161|     2|\n",
            "|     69|Game129|     1|\n",
            "|     77|  Game2|     2|\n",
            "|    606| Game87|     5|\n",
            "|    609|Game129|     5|\n",
            "|    666| Game27|     5|\n",
            "|    999|Game144|     5|\n",
            "|   4284| Game10|     5|\n",
            "|  29574| Game38|     3|\n",
            "| Jun-99|Game154|     5|\n",
            "|  39773| Game19|     3|\n",
            "|  7-Mar| Game27|     2|\n",
            "+-------+-------+------+\n",
            "only showing top 20 rows\n",
            "\n"
          ]
        }
      ]
    },
    {
      "cell_type": "code",
      "metadata": {
        "colab": {
          "base_uri": "https://localhost:8080/"
        },
        "id": "XVTbkJtQtEu6",
        "outputId": "36d17d09-53d9-42a2-aef1-329c1ebde33f"
      },
      "source": [
        "newcolnames = ['user_id','item_id','rating']\n",
        "for c,n in zip(ratings.columns,newcolnames):\n",
        "    ratings=ratings.withColumnRenamed(c,n)\n",
        "ratings"
      ],
      "execution_count": null,
      "outputs": [
        {
          "output_type": "execute_result",
          "data": {
            "text/plain": [
              "DataFrame[user_id: string, item_id: string, rating: bigint]"
            ]
          },
          "metadata": {},
          "execution_count": 10
        }
      ]
    },
    {
      "cell_type": "code",
      "metadata": {
        "colab": {
          "base_uri": "https://localhost:8080/"
        },
        "id": "PR8I7x6LtMeB",
        "outputId": "86c7f202-0e73-4a9d-e2b5-6e4a2bd8ac5c"
      },
      "source": [
        "#show how many partitions the data is spread over\n",
        "ratings.rdd.getNumPartitions()"
      ],
      "execution_count": null,
      "outputs": [
        {
          "output_type": "execute_result",
          "data": {
            "text/plain": [
              "8"
            ]
          },
          "metadata": {},
          "execution_count": 11
        }
      ]
    },
    {
      "cell_type": "code",
      "metadata": {
        "colab": {
          "base_uri": "https://localhost:8080/"
        },
        "id": "VkJVLXVCtV6p",
        "outputId": "9e8da82e-330a-4903-83a5-b2c64e3fc075"
      },
      "source": [
        "# ensure data is in correct format\n",
        "ratings = ratings.withColumn(\"rating\", ratings.rating.cast(\"Float\"))\n",
        "ratings.select(\"user_id\",\"item_id\",\"rating\").show(10)"
      ],
      "execution_count": null,
      "outputs": [
        {
          "output_type": "stream",
          "name": "stdout",
          "text": [
            "+-------+-------+------+\n",
            "|user_id|item_id|rating|\n",
            "+-------+-------+------+\n",
            "|     -9|Game133|   3.0|\n",
            "|      0|  Game9|   2.0|\n",
            "|      0| Game14|   4.0|\n",
            "|      0|Game129|   4.0|\n",
            "|      0|Game152|   5.0|\n",
            "|4:00 PM|Game123|   4.0|\n",
            "|      1|Game112|   5.0|\n",
            "|      2|Game107|   2.0|\n",
            "|    6.1|Game161|   2.0|\n",
            "|     69|Game129|   1.0|\n",
            "+-------+-------+------+\n",
            "only showing top 10 rows\n",
            "\n"
          ]
        }
      ]
    },
    {
      "cell_type": "code",
      "metadata": {
        "colab": {
          "base_uri": "https://localhost:8080/"
        },
        "id": "68DTCRp7tcb8",
        "outputId": "12acb4f6-b87c-4f3f-c57d-f24f802a10fa"
      },
      "source": [
        "# check the summary for the dataset\n",
        "ratings.describe().show()"
      ],
      "execution_count": null,
      "outputs": [
        {
          "output_type": "stream",
          "name": "stdout",
          "text": [
            "+-------+--------+-------+------------------+\n",
            "|summary| user_id|item_id|            rating|\n",
            "+-------+--------+-------+------------------+\n",
            "|  count|  289587| 289587|            289587|\n",
            "|   mean|Infinity|   null| 3.462389540966963|\n",
            "| stddev|     NaN|   null|1.4904903638326985|\n",
            "|    min|! Riuny!|  Game1|               1.0|\n",
            "|    max|히하라라| Game99|               5.0|\n",
            "+-------+--------+-------+------------------+\n",
            "\n"
          ]
        }
      ]
    },
    {
      "cell_type": "code",
      "metadata": {
        "colab": {
          "base_uri": "https://localhost:8080/"
        },
        "id": "EWsV5wjkteHc",
        "outputId": "0e103c33-b890-4d76-ebb6-6744787b3aec"
      },
      "source": [
        "# convert user_id and item_id from string into numeric for matrix indexing\n",
        "import numpy as np\n",
        "userids = np.sort([x.user_id for x in ratings.select(\"user_id\").distinct().collect()])\n",
        "userid_encode = {x: i for i, x in enumerate(userids)}\n",
        "itemids = np.sort([x.item_id for x in ratings.select(\"item_id\").distinct().collect()])\n",
        "itemid_encode = {x: i for i, x in enumerate(itemids)}\n",
        "print(len(userids), len(itemids))"
      ],
      "execution_count": null,
      "outputs": [
        {
          "output_type": "stream",
          "name": "stdout",
          "text": [
            "240669 170\n"
          ]
        }
      ]
    },
    {
      "cell_type": "code",
      "metadata": {
        "colab": {
          "base_uri": "https://localhost:8080/"
        },
        "id": "fXJGxC9htg1q",
        "outputId": "c9e0c9fe-072f-4647-b49e-c8a9dfdf0635"
      },
      "source": [
        "# copy the integer indices into the ratings dataframe\n",
        "rdd2=ratings.rdd.map(lambda x: (userid_encode[x[0]],itemid_encode[x[1]],float(x[2])))\n",
        "ratings2 = rdd2.toDF()\n",
        "for c,n in zip(ratings2.columns,newcolnames):\n",
        "    ratings2=ratings2.withColumnRenamed(c,n)\n",
        "ratings2.show(10)"
      ],
      "execution_count": null,
      "outputs": [
        {
          "output_type": "stream",
          "name": "stdout",
          "text": [
            "+-------+-------+------+\n",
            "|user_id|item_id|rating|\n",
            "+-------+-------+------+\n",
            "|    112|     38|   3.0|\n",
            "|    155|    159|   2.0|\n",
            "|    155|     45|   4.0|\n",
            "|    155|     33|   4.0|\n",
            "|    155|     59|   5.0|\n",
            "|    614|     27|   4.0|\n",
            "|    221|     15|   5.0|\n",
            "|    393|      9|   2.0|\n",
            "|    670|     69|   2.0|\n",
            "|    686|     33|   1.0|\n",
            "+-------+-------+------+\n",
            "only showing top 10 rows\n",
            "\n"
          ]
        }
      ]
    },
    {
      "cell_type": "code",
      "metadata": {
        "colab": {
          "base_uri": "https://localhost:8080/"
        },
        "id": "WytO1nITtjux",
        "outputId": "ac0df4ca-6918-48cd-a049-e6943dcb82e8"
      },
      "source": [
        "# split data into training and testing sets \n",
        "(training, testing) = ratings2.randomSplit([0.8, 0.2], seed = 66)\n",
        "print(\"trainset=\",training.count(), \"testing set=\", testing.count())"
      ],
      "execution_count": null,
      "outputs": [
        {
          "output_type": "stream",
          "name": "stdout",
          "text": [
            "trainset= 231481 testing set= 58106\n"
          ]
        }
      ]
    },
    {
      "cell_type": "code",
      "metadata": {
        "id": "9WXsVSF3t2FS"
      },
      "source": [
        "# build model-based collaborative filtering recommender system by ALS\n",
        "als = ALS(maxIter=20, rank=15, regParam=0.01, userCol=\"user_id\", itemCol=\"item_id\", ratingCol=\"rating\", coldStartStrategy=\"drop\", implicitPrefs=False)\n",
        "model = als.fit(training)"
      ],
      "execution_count": null,
      "outputs": []
    },
    {
      "cell_type": "code",
      "metadata": {
        "colab": {
          "base_uri": "https://localhost:8080/"
        },
        "id": "JKRaSrmRt4Jc",
        "outputId": "189593a2-f0ce-44fb-944d-c492790eafdb"
      },
      "source": [
        "# evaluate the mdoel\n",
        "predictions = model.transform(testing)\n",
        "evaluator = RegressionEvaluator(metricName=\"mae\", labelCol=\"rating\", predictionCol=\"prediction\")\n",
        "error = evaluator.evaluate(predictions)\n",
        "print(\"Mean Absolute error = \", error)"
      ],
      "execution_count": null,
      "outputs": [
        {
          "output_type": "stream",
          "name": "stdout",
          "text": [
            "Mean Absolute error =  1.3197082397718838\n"
          ]
        }
      ]
    },
    {
      "cell_type": "markdown",
      "metadata": {
        "id": "f_g6t1dDtw1Q"
      },
      "source": [
        "Make Recommendations for each user and game"
      ]
    },
    {
      "cell_type": "code",
      "metadata": {
        "id": "AzjC-oRFuK_Z",
        "colab": {
          "base_uri": "https://localhost:8080/"
        },
        "outputId": "4f2fa02d-8058-4a22-aaa9-cc205ef21db1"
      },
      "source": [
        "# Generate top 10 movie recommendations for each user\n",
        "userRecs = model.recommendForAllUsers(10)\n",
        "# Generate top 10 user recommendations for each movie\n",
        "gameRecs = model.recommendForAllItems(10)\n",
        "userRecs.show(10)\n",
        "gameRecs.show(10)"
      ],
      "execution_count": null,
      "outputs": [
        {
          "output_type": "stream",
          "name": "stderr",
          "text": [
            "/usr/local/lib/python3.7/dist-packages/pyspark/sql/context.py:127: FutureWarning: Deprecated in 3.0.0. Use SparkSession.builder.getOrCreate() instead.\n",
            "  FutureWarning\n"
          ]
        },
        {
          "output_type": "stream",
          "name": "stdout",
          "text": [
            "+-------+--------------------+\n",
            "|user_id|     recommendations|\n",
            "+-------+--------------------+\n",
            "|     26|[{154, 6.0566382}...|\n",
            "|     27|[{140, 8.06922}, ...|\n",
            "|     28|[{147, 5.0413127}...|\n",
            "|     31|[{136, 9.275289},...|\n",
            "|     53|[{140, 8.70141}, ...|\n",
            "|     65|[{147, 4.03305}, ...|\n",
            "|     76|[{76, 8.509389}, ...|\n",
            "|     85|[{140, 9.699274},...|\n",
            "|    101|[{136, 8.72545}, ...|\n",
            "|    103|[{136, 1.482472},...|\n",
            "+-------+--------------------+\n",
            "only showing top 10 rows\n",
            "\n",
            "+-------+--------------------+\n",
            "|item_id|     recommendations|\n",
            "+-------+--------------------+\n",
            "|      0|[{88656, 5.140218...|\n",
            "|      1|[{87804, 6.380102...|\n",
            "|      2|[{40901, 6.152019...|\n",
            "|      3|[{139480, 8.44949...|\n",
            "|      4|[{136844, 8.00370...|\n",
            "|      5|[{83112, 7.80784}...|\n",
            "|      6|[{161599, 6.82634...|\n",
            "|      7|[{143305, 6.41417...|\n",
            "|      8|[{204621, 13.3616...|\n",
            "|      9|[{184876, 6.47255...|\n",
            "+-------+--------------------+\n",
            "only showing top 10 rows\n",
            "\n"
          ]
        }
      ]
    },
    {
      "cell_type": "code",
      "metadata": {
        "id": "Wn-95keRm2sH"
      },
      "source": [
        "user_recommendations = userRecs.toPandas()\n",
        "item_recommendations = gameRecs.toPandas()"
      ],
      "execution_count": null,
      "outputs": []
    },
    {
      "cell_type": "code",
      "metadata": {
        "id": "fIbYsnJ3s1AF"
      },
      "source": [
        "user_recommendations.to_csv('user_recommendations.csv') \n",
        "item_recommendations.to_csv('item_recommendations.csv') "
      ],
      "execution_count": null,
      "outputs": []
    }
  ]
}